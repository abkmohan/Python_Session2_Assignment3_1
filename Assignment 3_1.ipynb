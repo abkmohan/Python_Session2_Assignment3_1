{
 "cells": [
  {
   "cell_type": "code",
   "execution_count": 43,
   "metadata": {},
   "outputs": [
    {
     "name": "stdout",
     "output_type": "stream",
     "text": [
      "100\n",
      "240000\n",
      "-80\n",
      "10\n",
      "Error with operator\n"
     ]
    }
   ],
   "source": [
    "#Course: Data Science Masters\n",
    "#Title: Python - Assignment 3.1\n",
    "#Problem Statement: \n",
    "#     1. Python Program to implement your own myreduce() function which works exactly like Python's built-in function reduce()\n",
    "#     2. Python program to implement your own myfilter() function which works exactly like Python's built-in function filter()\n",
    "#Tool: Jupyter notebook \n",
    "#Author: Krishna A\n",
    "#Date: 19-2-2018 (DD/MM/YYYY)\n",
    "\n",
    "#myreduce() - own implementation\n",
    "\n",
    "def myreduce(aList,sOperator):  #start of function body - myreduce() takes 2 parameters - List/Tuple, Operator\n",
    "    iResult = aList[0]\n",
    "    for iElement in aList[1::]:\n",
    "        if(sOperator=='+'):\n",
    "            iResult = iResult + iElement\n",
    "        elif(sOperator=='*'):            \n",
    "            iResult = iResult * iElement\n",
    "        elif(sOperator=='-'):\n",
    "            iResult = iResult - iElement\n",
    "        elif(sOperator=='%'):\n",
    "            iResult = iResult % iElement\n",
    "        else:\n",
    "            iResult=\"Error with operator\"\n",
    "            \n",
    "    return(str(iResult))\n",
    "\n",
    "print(myreduce([10,20,30,40],'+')) #call to myreduce - my implementation of reduce((lambda x, y: x + y), [10,20,30,40])\n",
    "print(myreduce((10,20,30,40),'*')) #call to myreduce - my implementation of reduce((lambda x, y: x * y), [10,20,30,40])\n",
    "print(myreduce([10,20,30,40],'-')) #call to myreduce - my implementation of reduce((lambda x, y: x - y), [10,20,30,40])\n",
    "print(myreduce((10,20,30,40),'%')) #call to myreduce - my implementation of reduce((lambda x, y: x % y), [10,20,30,40])\n",
    "print(myreduce((10,20,30,40),'&')) #Returns Error with operator - my version"
   ]
  },
  {
   "cell_type": "code",
   "execution_count": 45,
   "metadata": {},
   "outputs": [
    {
     "name": "stdout",
     "output_type": "stream",
     "text": [
      "[0, 1, 2, 3, 4]\n",
      "[6, 7, 8, 9, 10]\n",
      "[]\n"
     ]
    }
   ],
   "source": [
    "#myfilter() - own implementation\n",
    "\n",
    "def myfilter(aList,sCompare,iNumber):  #start of function body - myfilter() takes 3 parameters\n",
    "    aReturnList=[]\n",
    "    for iElement in aList:\n",
    "        if(sCompare=='<'):\n",
    "            if(iElement < iNumber):\n",
    "                aReturnList.append(iElement)\n",
    "        elif(sCompare=='>'):\n",
    "            if(iElement > iNumber):\n",
    "                aReturnList.append(iElement)\n",
    "        else:\n",
    "            iResult=\"Invalid comparision\"\n",
    "    \n",
    "    return(aReturnList)\n",
    "\n",
    "print(myfilter(range(0,11),'<',5)) #call to myfilter with less than comparision\n",
    "print(myfilter(range(0,11),'>',5)) #call to myfilter with greater than comparision\n",
    "print(myfilter(range(0,11),'-',5)) #Returns Invalid comparision - my version"
   ]
  },
  {
   "cell_type": "code",
   "execution_count": null,
   "metadata": {
    "collapsed": true
   },
   "outputs": [],
   "source": []
  }
 ],
 "metadata": {
  "kernelspec": {
   "display_name": "Python 3",
   "language": "python",
   "name": "python3"
  },
  "language_info": {
   "codemirror_mode": {
    "name": "ipython",
    "version": 3
   },
   "file_extension": ".py",
   "mimetype": "text/x-python",
   "name": "python",
   "nbconvert_exporter": "python",
   "pygments_lexer": "ipython3",
   "version": "3.6.3"
  }
 },
 "nbformat": 4,
 "nbformat_minor": 2
}
